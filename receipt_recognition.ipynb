{
 "cells": [
  {
   "cell_type": "code",
   "execution_count": 3,
   "metadata": {},
   "outputs": [],
   "source": [
    "# import the necessary packages\n",
    "from PIL import Image\n",
    "import pytesseract\n",
    "import argparse\n",
    "import cv2\n",
    "import os\n",
    " \n",
    "# construct the argument parse and parse the arguments\n",
    "#ap = argparse.ArgumentParser()\n",
    "#ap.add_argument(\"-i\", \"--image\", required=True,\n",
    "#\thelp=\"path to input image to be OCR'd\")\n",
    "#ap.add_argument(\"-p\", \"--preprocess\", type=str, default=\"thresh\",#\n",
    "#\thelp=\"type of preprocessing to be done\")\n",
    "#args = vars(ap.parse_args())"
   ]
  },
  {
   "cell_type": "code",
   "execution_count": 53,
   "metadata": {},
   "outputs": [
    {
     "name": "stdout",
     "output_type": "stream",
     "text": [
      "[[252 253 251 ... 246 230 231]\n",
      " [251 251 251 ... 247 232 233]\n",
      " [251 251 251 ... 249 235 237]\n",
      " ...\n",
      " [255 255 255 ... 252 247 247]\n",
      " [255 255 255 ... 250 244 242]\n",
      " [255 255 255 ... 248 240 241]]\n"
     ]
    },
    {
     "ename": "error",
     "evalue": "OpenCV(4.0.0) c:\\projects\\opencv-python\\opencv\\modules\\imgproc\\src\\color.hpp:259: error: (-2:Unspecified error) in function '__cdecl cv::CvtHelper<struct cv::Set<3,4,-1>,struct cv::Set<1,-1,-1>,struct cv::Set<0,2,5>,2>::CvtHelper(const class cv::_InputArray &,const class cv::_OutputArray &,int)'\n> Invalid number of channels in input image:\n>     'VScn::contains(scn)'\n> where\n>     'scn' is 1\n",
     "output_type": "error",
     "traceback": [
      "\u001b[1;31m---------------------------------------------------------------------------\u001b[0m",
      "\u001b[1;31merror\u001b[0m                                     Traceback (most recent call last)",
      "\u001b[1;32m<ipython-input-53-2048b64c5a1a>\u001b[0m in \u001b[0;36m<module>\u001b[1;34m\u001b[0m\n\u001b[0;32m      4\u001b[0m \u001b[0mimage\u001b[0m \u001b[1;33m=\u001b[0m \u001b[0mcv2\u001b[0m\u001b[1;33m.\u001b[0m\u001b[0mimread\u001b[0m\u001b[1;33m(\u001b[0m\u001b[0mpath\u001b[0m\u001b[1;33m,\u001b[0m \u001b[1;36m0\u001b[0m\u001b[1;33m)\u001b[0m\u001b[1;33m\u001b[0m\u001b[0m\n\u001b[0;32m      5\u001b[0m \u001b[0mprint\u001b[0m\u001b[1;33m(\u001b[0m\u001b[0mimage\u001b[0m\u001b[1;33m)\u001b[0m\u001b[1;33m\u001b[0m\u001b[0m\n\u001b[1;32m----> 6\u001b[1;33m \u001b[0mgray\u001b[0m \u001b[1;33m=\u001b[0m \u001b[0mcv2\u001b[0m\u001b[1;33m.\u001b[0m\u001b[0mcvtColor\u001b[0m\u001b[1;33m(\u001b[0m\u001b[0mimage\u001b[0m\u001b[1;33m,\u001b[0m \u001b[0mcv2\u001b[0m\u001b[1;33m.\u001b[0m\u001b[0mCOLOR_BGR2GRAY\u001b[0m\u001b[1;33m)\u001b[0m\u001b[1;33m\u001b[0m\u001b[0m\n\u001b[0m\u001b[0;32m      7\u001b[0m \u001b[1;33m\u001b[0m\u001b[0m\n\u001b[0;32m      8\u001b[0m \u001b[1;31m# check to see if we should apply thresholding to preprocess the\u001b[0m\u001b[1;33m\u001b[0m\u001b[1;33m\u001b[0m\u001b[0m\n",
      "\u001b[1;31merror\u001b[0m: OpenCV(4.0.0) c:\\projects\\opencv-python\\opencv\\modules\\imgproc\\src\\color.hpp:259: error: (-2:Unspecified error) in function '__cdecl cv::CvtHelper<struct cv::Set<3,4,-1>,struct cv::Set<1,-1,-1>,struct cv::Set<0,2,5>,2>::CvtHelper(const class cv::_InputArray &,const class cv::_OutputArray &,int)'\n> Invalid number of channels in input image:\n>     'VScn::contains(scn)'\n> where\n>     'scn' is 1\n"
     ]
    }
   ],
   "source": [
    "path = \"C:\\\\Users\\\\jakub\\\\OneDrive\\\\Documents\\\\Visual Studio 2015\\\\Projects\\\\EcoReceipt\\\\Hackathon\\\\receipt\\\\2.jpg\"\n",
    "\n",
    "# load the example image and convert it to grayscale\n",
    "image = cv2.imread(path, 0)\n",
    "print(image)\n",
    "gray = cv2.cvtColor(image, cv2.COLOR_BGR2GRAY)\n",
    " \n",
    "# check to see if we should apply thresholding to preprocess the\n",
    "# image\n",
    "#preprocess\n",
    "gray = cv2.threshold(gray, 0, 255, cv2.THRESH_BINARY | cv2.THRESH_OTSU)[1]\n",
    " \n",
    "# make a check to see if median blurring should be done to remove\n",
    "# noise\n",
    "gray = cv2.medianBlur(gray, 3)\n",
    " \n",
    "# write the grayscale image to disk as a temporary file so we can\n",
    "# apply OCR to it\n",
    "filename = \"result.png\"\n",
    "cv2.imwrite(filename, gray)"
   ]
  },
  {
   "cell_type": "code",
   "execution_count": 54,
   "metadata": {},
   "outputs": [
    {
     "name": "stdout",
     "output_type": "stream",
     "text": [
      "<PIL.JpegImagePlugin.JpegImageFile image mode=RGB size=345x736 at 0x2388DE45128>\n",
      "TESCO\n",
      "\n",
      "aur aer am ar aur\n",
      "\n",
      "STEVENAGE\n",
      "0845 677 9642\n",
      "\n",
      "serem appLes £1.29\n",
      "HADCK FSH £1.99\n",
      "FRESH MILK £0.86\n",
      "CHICKEN PNS ean\n",
      "T MAT CHEDDAR £2.43\n",
      "ckN Fo Pre £3.20\n",
      "SLICED HAM £2.99\n",
      "LURPACK SPREAD £1.59\n",
      "Ecos £0.89\n",
      "CAD CHOC BREAK £2.20\n",
      "HERBAL T/Bacs £1.69\n",
      "FRESH Cue £0.99\n",
      "BREADSTICKS £1.69\n",
      "ORANGE JUICE £1.59\n",
      "PaRsNIPS £0.57\n",
      "SPRNOODLE £0.50\n",
      "SUB-TOTAL £25.52\n",
      "ToTaL To ray £25.52\n",
      "visa pestT\n",
      "\n",
      "keene 8764\n",
      "\n",
      "Contactless Visa\n"
     ]
    }
   ],
   "source": [
    "from PIL import Image\n",
    "import pytesseract\n",
    "\n",
    "pytesseract.pytesseract.tesseract_cmd = 'C:\\\\Program Files (x86)\\\\Tesseract-OCR\\\\tesseract.exe'\n",
    "\n",
    "t = Image.open(path)\n",
    "\n",
    "print(t)\n",
    "\n",
    "text = pytesseract.image_to_string(Image.open(path))\n",
    "print(text)\n",
    "\n",
    "def parse(text):\n",
    "    text = text.split('\\n')\n",
    "    print(text)\n",
    "    text = text.split()\n",
    "    "
   ]
  },
  {
   "cell_type": "code",
   "execution_count": 75,
   "metadata": {},
   "outputs": [
    {
     "name": "stdout",
     "output_type": "stream",
     "text": [
      "TESCO\n",
      "\n",
      "aur aer am ar aur\n",
      "\n",
      "STEVENAGE\n",
      "0845 677 9642\n",
      "\n",
      "serem appLes £1.29\n",
      "HADCK FSH £1.99\n",
      "FRESH MILK £0.86\n",
      "CHICKEN PNS ean\n",
      "T MAT CHEDDAR £2.43\n",
      "ckN Fo Pre £3.20\n",
      "SLICED HAM £2.99\n",
      "LURPACK SPREAD £1.59\n",
      "Ecos £0.89\n",
      "CAD CHOC BREAK £2.20\n",
      "HERBAL T/Bacs £1.69\n",
      "FRESH Cue £0.99\n",
      "BREADSTICKS £1.69\n",
      "ORANGE JUICE £1.59\n",
      "PaRsNIPS £0.57\n",
      "SPRNOODLE £0.50\n",
      "SUB-TOTAL £25.52\n",
      "ToTaL To ray £25.52\n",
      "visa pestT\n",
      "\n",
      "keene 8764\n",
      "\n",
      "Contactless Visa\n",
      "{\"shop\": \"TESCO\", \"date\": 1554565592, \"Total\": 24.470000000000002, \"products\": [{\"name\": \"serem appLes\", \"quantity\": 1, \"isWeight\": false, \"prize\": 1.29, \"category\": \"Food\"}, {\"name\": \"HADCK FSH\", \"quantity\": 1, \"isWeight\": false, \"prize\": 1.99, \"category\": \"Food\"}, {\"name\": \"FRESH MILK\", \"quantity\": 1, \"isWeight\": false, \"prize\": 0.86, \"category\": \"Food\"}, {\"name\": \"T MAT CHEDDAR\", \"quantity\": 1, \"isWeight\": false, \"prize\": 2.43, \"category\": \"Food\"}, {\"name\": \"ckN Fo Pre\", \"quantity\": 1, \"isWeight\": false, \"prize\": 3.2, \"category\": \"Food\"}, {\"name\": \"SLICED HAM\", \"quantity\": 1, \"isWeight\": false, \"prize\": 2.99, \"category\": \"Food\"}, {\"name\": \"LURPACK SPREAD\", \"quantity\": 1, \"isWeight\": false, \"prize\": 1.59, \"category\": \"Food\"}, {\"name\": \"Ecos\", \"quantity\": 1, \"isWeight\": false, \"prize\": 0.89, \"category\": \"Food\"}, {\"name\": \"CAD CHOC BREAK\", \"quantity\": 1, \"isWeight\": false, \"prize\": 2.2, \"category\": \"Food\"}, {\"name\": \"HERBAL T/Bacs\", \"quantity\": 1, \"isWeight\": false, \"prize\": 1.69, \"category\": \"Food\"}, {\"name\": \"FRESH Cue\", \"quantity\": 1, \"isWeight\": false, \"prize\": 0.99, \"category\": \"Food\"}, {\"name\": \"BREADSTICKS\", \"quantity\": 1, \"isWeight\": false, \"prize\": 1.69, \"category\": \"Food\"}, {\"name\": \"ORANGE JUICE\", \"quantity\": 1, \"isWeight\": false, \"prize\": 1.59, \"category\": \"Food\"}, {\"name\": \"PaRsNIPS\", \"quantity\": 1, \"isWeight\": false, \"prize\": 0.57, \"category\": \"Food\"}, {\"name\": \"SPRNOODLE\", \"quantity\": 1, \"isWeight\": false, \"prize\": 0.5, \"category\": \"Food\"}]}\n"
     ]
    }
   ],
   "source": [
    "import json\n",
    "import time\n",
    "\n",
    "def parse(text):\n",
    "    text = text.split('\\n')\n",
    "    products = []\n",
    "    for line in text:\n",
    "        print(line)\n",
    "        bDigit = False\n",
    "        bPoint = False\n",
    "        for l in line:\n",
    "            if str.isdigit(l):\n",
    "                bDigit = True\n",
    "            elif l == '.':\n",
    "                bPoint = True\n",
    "                \n",
    "        if bDigit and bPoint:\n",
    "            splitLine = line.split('£')\n",
    "            #print(splitLine)\n",
    "            (name, price) = splitLine\n",
    "            if name[len(name) - 1] == ' ':\n",
    "                name = name[:len(name) - 1]\n",
    "            #print(name)\n",
    "            #print(price)\n",
    "            products.append((name, float(price)))\n",
    "            \n",
    "    # remove two last\n",
    "    name = text[0]\n",
    "    products = products[:len(products) - 2]\n",
    "\n",
    "    \n",
    "    return (name, '£', products)\n",
    "    print((name, '£', products))\n",
    "    \n",
    "def tojson(triple):\n",
    "    (name, currency, products) = triple\n",
    "    total = 0\n",
    "    for i in range(0, len(products)):\n",
    "        n, p = products[i]\n",
    "        total += p\n",
    "        \n",
    "    productsList = []\n",
    "    for i in range(0, len(products)):\n",
    "        n, p = products[i]\n",
    "        productsList.append({\"name\" : n, \"quantity\" : 1, \"isWeight\" : False, \"prize\": p, \"category\" : \"Food\"})\n",
    "    \n",
    "    jsonObject = {\"shop\" : name, \"date\" : int(time.time()), \"Total\" : total, \"products\" : productsList}\n",
    "    return json.dumps(jsonObject)\n",
    "\n",
    "print(tojson(parse(text)))"
   ]
  },
  {
   "cell_type": "code",
   "execution_count": null,
   "metadata": {},
   "outputs": [],
   "source": [
    "{\"shop\": parsed[0], ..., \"products\": [\n",
    "    {\"name\": \"serem apples\", \"price\": 1.29, ...},\n",
    "    ...\n",
    "]}\n",
    "\n",
    "shop = {\"shop\": }"
   ]
  }
 ],
 "metadata": {
  "kernelspec": {
   "display_name": "Python 3",
   "language": "python",
   "name": "python3"
  },
  "language_info": {
   "codemirror_mode": {
    "name": "ipython",
    "version": 3
   },
   "file_extension": ".py",
   "mimetype": "text/x-python",
   "name": "python",
   "nbconvert_exporter": "python",
   "pygments_lexer": "ipython3",
   "version": "3.6.3"
  }
 },
 "nbformat": 4,
 "nbformat_minor": 2
}
